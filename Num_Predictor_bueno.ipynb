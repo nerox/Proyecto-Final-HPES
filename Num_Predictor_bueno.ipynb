{
 "cells": [
  {
   "cell_type": "code",
   "execution_count": 78,
   "metadata": {},
   "outputs": [],
   "source": [
    "import tensorflow as tf\n",
    "(x_train, y_train), (x_test, y_test) = tf.keras.datasets.mnist.load_data()"
   ]
  },
  {
   "cell_type": "code",
   "execution_count": 79,
   "metadata": {},
   "outputs": [
    {
     "name": "stdout",
     "output_type": "stream",
     "text": [
      "8\n"
     ]
    },
    {
     "data": {
      "text/plain": [
       "<matplotlib.image.AxesImage at 0x127cab7e0b8>"
      ]
     },
     "execution_count": 79,
     "metadata": {},
     "output_type": "execute_result"
    },
    {
     "data": {
      "image/png": "[encoded data removed]",
      "text/plain": [
       "<Figure size 432x288 with 1 Axes>"
      ]
     },
     "metadata": {
      "needs_background": "light"
     },
     "output_type": "display_data"
    }
   ],
   "source": [
    "import matplotlib.pyplot as plt\n",
    "#matplotlib inline # Only use this if using iPython\n",
    "image_index = 7777 # You may select anything up to 60,000\n",
    "print(y_train[image_index]) # The label is 8\n",
    "plt.imshow(x_train[image_index], cmap='Greys')"
   ]
  },
  {
   "cell_type": "code",
   "execution_count": 80,
   "metadata": {},
   "outputs": [
    {
     "data": {
      "text/plain": [
       "(60000, 28, 28)"
      ]
     },
     "execution_count": 80,
     "metadata": {},
     "output_type": "execute_result"
    }
   ],
   "source": [
    "x_train.shape"
   ]
  },
  {
   "cell_type": "code",
   "execution_count": 81,
   "metadata": {},
   "outputs": [
    {
     "name": "stdout",
     "output_type": "stream",
     "text": [
      "x_train shape: (60000, 28, 28, 1)\n",
      "Number of images in x_train 60000\n",
      "Number of images in x_test 10000\n"
     ]
    }
   ],
   "source": [
    "# Reshaping the array to 4-dims so that it can work with the Keras API\n",
    "x_train = x_train.reshape(x_train.shape[0], 28, 28, 1)\n",
    "x_test = x_test.reshape(x_test.shape[0], 28, 28, 1)\n",
    "input_shape = (28, 28, 1)\n",
    "# Making sure that the values are float so that we can get decimal points after division\n",
    "x_train = x_train.astype('float32')\n",
    "x_test = x_test.astype('float32')\n",
    "# Normalizing the RGB codes by dividing it to the max RGB value.\n",
    "x_train /= 255\n",
    "x_test /= 255\n",
    "print('x_train shape:', x_train.shape)\n",
    "print('Number of images in x_train', x_train.shape[0])\n",
    "print('Number of images in x_test', x_test.shape[0])"
   ]
  },
  {
   "cell_type": "code",
   "execution_count": 85,
   "metadata": {},
   "outputs": [],
   "source": [
    "# Importing the required Keras modules containing model and layers\n",
    "from keras.models import Sequential\n",
    "from keras.layers import Dense, Conv2D, Dropout, Flatten, MaxPooling2D\n",
    "# Creating a Sequential Model and adding the layers\n",
    "model = Sequential()\n",
    "model.add(Conv2D(28, kernel_size=(3,3), input_shape=input_shape))\n",
    "model.add(MaxPooling2D(pool_size=(2, 2)))\n",
    "model.add(Flatten()) # Flattening the 2D arrays for fully connected layers\n",
    "model.add(Dense(128, activation=tf.nn.relu))\n",
    "model.add(Dropout(0.2))\n",
    "model.add(Dense(10,activation=tf.nn.softmax))"
   ]
  },
  {
   "cell_type": "code",
   "execution_count": 87,
   "metadata": {},
   "outputs": [
    {
     "name": "stdout",
     "output_type": "stream",
     "text": [
      "Epoch 1/3\n",
      "60000/60000 [==============================] - 160s 3ms/step - loss: 0.2021 - acc: 0.9401\n",
      "\n",
      "Epoch 00001: saving model to C:\\Users\\vernyjmo\\Google Drive\\Maestria\\5 Cuatrimestre\\Reconocimiento de Patrones\\Proyecto_Final\\Numeros\\Num_Predictor\\num_predictor.ckpt\n",
      "Epoch 2/3\n",
      "60000/60000 [==============================] - 151s 3ms/step - loss: 0.0834 - acc: 0.9749\n",
      "\n",
      "Epoch 00002: saving model to C:\\Users\\vernyjmo\\Google Drive\\Maestria\\5 Cuatrimestre\\Reconocimiento de Patrones\\Proyecto_Final\\Numeros\\Num_Predictor\\num_predictor.ckpt\n",
      "Epoch 3/3\n",
      "60000/60000 [==============================] - 160s 3ms/step - loss: 0.0579 - acc: 0.9817\n",
      "\n",
      "Epoch 00003: saving model to C:\\Users\\vernyjmo\\Google Drive\\Maestria\\5 Cuatrimestre\\Reconocimiento de Patrones\\Proyecto_Final\\Numeros\\Num_Predictor\\num_predictor.ckpt\n"
     ]
    },
    {
     "data": {
      "text/plain": [
       "<keras.callbacks.History at 0x127cbd39f60>"
      ]
     },
     "execution_count": 87,
     "metadata": {},
     "output_type": "execute_result"
    }
   ],
   "source": [
    "import os\n",
    "model.compile(optimizer='adam', \n",
    "              loss='sparse_categorical_crossentropy', \n",
    "              metrics=['accuracy'])\n",
    "#Export Model\n",
    "\n",
    "checkpoint_path = (r\"C:\\Users\\vernyjmo\\Google Drive\\Maestria\\5 Cuatrimestre\\Reconocimiento de Patrones\\Proyecto_Final\\Numeros\\Num_Predictor\\num_predictor.ckpt\") \n",
    "checkpoint_dir = os.path.dirname(checkpoint_path)\n",
    "cp_callback = tf.keras.callbacks.ModelCheckpoint(checkpoint_path, save_weights_only=True, verbose=1)\n",
    "\n",
    "model.fit(x=x_train,y=y_train, epochs=3, callbacks=[cp_callback])"
   ]
  },
  {
   "cell_type": "code",
   "execution_count": 55,
   "metadata": {},
   "outputs": [
    {
     "name": "stdout",
     "output_type": "stream",
     "text": [
      "3\n"
     ]
    },
    {
     "data": {
      "image/png": "[encoded data removed]",
      "text/plain": [
       "<Figure size 432x288 with 1 Axes>"
      ]
     },
     "metadata": {
      "needs_background": "light"
     },
     "output_type": "display_data"
    }
   ],
   "source": [
    "import cv2\n",
    "from skimage.color import rgb2gray\n",
    "from skimage.transform import resize\n",
    "\n",
    "img_rows, img_cols = 28, 28\n",
    "\n",
    "image_original=cv2.imread(r\"C:\\Users\\vernyjmo\\Google Drive\\Maestria\\5 Cuatrimestre\\Reconocimiento de Patrones\\Proyecto_Final\\Numeros\\placa_7_bn.png\")\n",
    "image_original_gray = rgb2gray(image_original)\n",
    "image_original_gray_res = resize(image_original_gray, (28,28))\n",
    "\n",
    "#image1 = image_original.reshape(367500, 28, 28,1)\n",
    "#prediction = model.predict(r'C:\\Users\\vernyjmo\\Google Drive\\Maestria\\5 Cuatrimestre\\Reconocimiento de Patrones\\Proyecto_Final\\Numeros\\1.jpg')\n",
    "\n",
    "#print(prediction)\n",
    "\n",
    "image_index = 3333\n",
    "plt.imshow(image_original_gray_res.reshape(28, 28),cmap='Greys')\n",
    "pred = model.predict(image_original_gray_res.reshape(1, img_rows, img_cols, 1))\n",
    "print(pred.argmax())\n",
    "\n",
    "#model.evaluate(x_test, y_test)"
   ]
  },
  {
   "cell_type": "code",
   "execution_count": 43,
   "metadata": {},
   "outputs": [
    {
     "name": "stdout",
     "output_type": "stream",
     "text": [
      "8\n"
     ]
    },
    {
     "data": {
      "image/png": "[encoded data removed]",
      "text/plain": [
       "<Figure size 432x288 with 1 Axes>"
      ]
     },
     "metadata": {
      "needs_background": "light"
     },
     "output_type": "display_data"
    }
   ],
   "source": [
    "import cv2\n",
    "from skimage.color import rgb2gray\n",
    "from skimage.transform import resize\n",
    "\n",
    "img_rows, img_cols = 28, 28\n",
    "\n",
    "image_original=cv2.imread(r\"C:\\Users\\vernyjmo\\Google Drive\\Maestria\\5 Cuatrimestre\\Reconocimiento de Patrones\\Proyecto_Final\\Numeros\\4_paint_2.png\")\n",
    "image_original_gray = rgb2gray(image_original)\n",
    "image_original_gray_res = resize(image_original_gray, (1,28,28,1))\n",
    "\n",
    "#image1 = image_original.reshape(367500, 28, 28,1)\n",
    "#prediction = model.predict(r'C:\\Users\\vernyjmo\\Google Drive\\Maestria\\5 Cuatrimestre\\Reconocimiento de Patrones\\Proyecto_Final\\Numeros\\1.jpg')\n",
    "\n",
    "#print(prediction)\n",
    "\n",
    "image_index = 3333\n",
    "plt.imshow(image_original_gray_res.reshape(28, 28),cmap='Greys')\n",
    "pred = model.predict(image_original_gray_res)\n",
    "print(pred.argmax())"
   ]
  }
 ],
 "metadata": {
  "kernelspec": {
   "display_name": "Python 3",
   "language": "python",
   "name": "python3"
  },
  "language_info": {
   "codemirror_mode": {
    "name": "ipython",
    "version": 3
   },
   "file_extension": ".py",
   "mimetype": "text/x-python",
   "name": "python",
   "nbconvert_exporter": "python",
   "pygments_lexer": "ipython3",
   "version": "3.7.3"
  }
 },
 "nbformat": 4,
 "nbformat_minor": 2
}
