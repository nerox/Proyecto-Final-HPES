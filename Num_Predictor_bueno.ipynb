{
 "cells": [
  {
   "cell_type": "code",
   "execution_count": 1,
   "metadata": {},
   "outputs": [],
   "source": [
    "import tensorflow as tf\n",
    "(x_train, y_train), (x_test, y_test) = tf.keras.datasets.mnist.load_data()"
   ]
  },
  {
   "cell_type": "code",
   "execution_count": 3,
   "metadata": {},
   "outputs": [
    {
     "name": "stdout",
     "output_type": "stream",
     "text": [
      "0\n"
     ]
    },
    {
     "data": {
      "text/plain": [
       "<matplotlib.image.AxesImage at 0x1bfb43c1f98>"
      ]
     },
     "execution_count": 3,
     "metadata": {},
     "output_type": "execute_result"
    },
    {
     "data": {
      "image/png": "[encoded data removed]",
      "text/plain": [
       "<Figure size 432x288 with 1 Axes>"
      ]
     },
     "metadata": {
      "needs_background": "light"
     },
     "output_type": "display_data"
    }
   ],
   "source": [
    "import matplotlib.pyplot as plt\n",
    "#Verificar que el set de datos se cargara correctamente\n",
    "image_index = 1000 \n",
    "print(y_train[image_index])\n",
    "plt.imshow(x_train[image_index], cmap='Greys')"
   ]
  },
  {
   "cell_type": "code",
   "execution_count": 4,
   "metadata": {},
   "outputs": [
    {
     "data": {
      "text/plain": [
       "(60000, 28, 28)"
      ]
     },
     "execution_count": 4,
     "metadata": {},
     "output_type": "execute_result"
    }
   ],
   "source": [
    "x_train.shape"
   ]
  },
  {
   "cell_type": "code",
   "execution_count": 5,
   "metadata": {},
   "outputs": [
    {
     "name": "stdout",
     "output_type": "stream",
     "text": [
      "x_train shape: (60000, 28, 28, 1)\n",
      "Number of images in x_train 60000\n",
      "Number of images in x_test 10000\n"
     ]
    }
   ],
   "source": [
    "# Se manejan los datos para que estos sean de un mismo tamano y puedan alimentar el modelo\n",
    "x_train = x_train.reshape(x_train.shape[0], 28, 28, 1)\n",
    "x_test = x_test.reshape(x_test.shape[0], 28, 28, 1)\n",
    "input_shape = (28, 28, 1)\n",
    "# convierte los datos en flotantes\n",
    "x_train = x_train.astype('float32')\n",
    "x_test = x_test.astype('float32')\n",
    "# Se normalizan los datos para obtener unicos tamanos.\n",
    "x_train /= 255\n",
    "x_test /= 255\n",
    "print('x_train shape:', x_train.shape)\n",
    "print('Number of images in x_train', x_train.shape[0])\n",
    "print('Number of images in x_test', x_test.shape[0])"
   ]
  },
  {
   "cell_type": "code",
   "execution_count": 6,
   "metadata": {},
   "outputs": [
    {
     "name": "stderr",
     "output_type": "stream",
     "text": [
      "Using TensorFlow backend.\n"
     ]
    },
    {
     "name": "stdout",
     "output_type": "stream",
     "text": [
      "WARNING:tensorflow:From c:\\users\\vernyjmo\\appdata\\local\\continuum\\miniconda3\\lib\\site-packages\\tensorflow\\python\\framework\\op_def_library.py:263: colocate_with (from tensorflow.python.framework.ops) is deprecated and will be removed in a future version.\n",
      "Instructions for updating:\n",
      "Colocations handled automatically by placer.\n",
      "WARNING:tensorflow:From c:\\users\\vernyjmo\\appdata\\local\\continuum\\miniconda3\\lib\\site-packages\\keras\\backend\\tensorflow_backend.py:3445: calling dropout (from tensorflow.python.ops.nn_ops) with keep_prob is deprecated and will be removed in a future version.\n",
      "Instructions for updating:\n",
      "Please use `rate` instead of `keep_prob`. Rate should be set to `rate = 1 - keep_prob`.\n"
     ]
    }
   ],
   "source": [
    "# Se importan lops modelos de Keras que contienen el modelo CNN \n",
    "from keras.models import Sequential\n",
    "from keras.layers import Dense, Conv2D, Dropout, Flatten, MaxPooling2D\n",
    "# Se crea el modelo secuencial de layers\n",
    "model = Sequential()\n",
    "model.add(Conv2D(28, kernel_size=(3,3), input_shape=input_shape))\n",
    "model.add(MaxPooling2D(pool_size=(2, 2)))\n",
    "model.add(Flatten()) # Flattening para la salida de las layers\n",
    "model.add(Dense(128, activation=tf.nn.relu))\n",
    "model.add(Dropout(0.2))\n",
    "model.add(Dense(10,activation=tf.nn.softmax))"
   ]
  },
  {
   "cell_type": "code",
   "execution_count": 7,
   "metadata": {},
   "outputs": [
    {
     "name": "stdout",
     "output_type": "stream",
     "text": [
      "WARNING:tensorflow:From c:\\users\\vernyjmo\\appdata\\local\\continuum\\miniconda3\\lib\\site-packages\\tensorflow\\python\\ops\\math_ops.py:3066: to_int32 (from tensorflow.python.ops.math_ops) is deprecated and will be removed in a future version.\n",
      "Instructions for updating:\n",
      "Use tf.cast instead.\n",
      "Epoch 1/3\n",
      "60000/60000 [==============================] - 136s 2ms/step - loss: 0.1977 - acc: 0.9407\n",
      "\n",
      "Epoch 00001: saving model to C:\\Users\\vernyjmo\\Google Drive\\Maestria\\5 Cuatrimestre\\Reconocimiento de Patrones\\Proyecto_Final\\Numeros\\Num_Predictor\\num_predictor.ckpt\n",
      "Epoch 2/3\n",
      "60000/60000 [==============================] - 102s 2ms/step - loss: 0.0787 - acc: 0.9754\n",
      "\n",
      "Epoch 00002: saving model to C:\\Users\\vernyjmo\\Google Drive\\Maestria\\5 Cuatrimestre\\Reconocimiento de Patrones\\Proyecto_Final\\Numeros\\Num_Predictor\\num_predictor.ckpt\n",
      "Epoch 3/3\n",
      "60000/60000 [==============================] - 103s 2ms/step - loss: 0.0545 - acc: 0.9833 0s - loss: 0.0545 - acc: 0.98\n",
      "\n",
      "Epoch 00003: saving model to C:\\Users\\vernyjmo\\Google Drive\\Maestria\\5 Cuatrimestre\\Reconocimiento de Patrones\\Proyecto_Final\\Numeros\\Num_Predictor\\num_predictor.ckpt\n"
     ]
    },
    {
     "data": {
      "text/plain": [
       "<keras.callbacks.History at 0x1bfb217f7b8>"
      ]
     },
     "execution_count": 7,
     "metadata": {},
     "output_type": "execute_result"
    }
   ],
   "source": [
    "import os\n",
    "model.compile(optimizer='adam', \n",
    "              loss='sparse_categorical_crossentropy', \n",
    "              metrics=['accuracy'])\n",
    "#Export Model\n",
    "\n",
    "checkpoint_path = (r\"C:\\Users\\vernyjmo\\Google Drive\\Maestria\\5 Cuatrimestre\\Reconocimiento de Patrones\\Proyecto_Final\\Numeros\\Num_Predictor\\num_predictor.ckpt\") \n",
    "checkpoint_dir = os.path.dirname(checkpoint_path)\n",
    "cp_callback = tf.keras.callbacks.ModelCheckpoint(checkpoint_path, save_weights_only=True, verbose=1)\n",
    "\n",
    "model.fit(x=x_train,y=y_train, epochs=3, callbacks=[cp_callback])"
   ]
  },
  {
   "cell_type": "code",
   "execution_count": 14,
   "metadata": {},
   "outputs": [
    {
     "name": "stdout",
     "output_type": "stream",
     "text": [
      "El carro cumple con la restriccion vehicular\n",
      "8\n"
     ]
    },
    {
     "data": {
      "image/png": "[encoded data removed]",
      "text/plain": [
       "<Figure size 432x288 with 1 Axes>"
      ]
     },
     "metadata": {
      "needs_background": "light"
     },
     "output_type": "display_data"
    }
   ],
   "source": [
    "import cv2\n",
    "from skimage.color import rgb2gray\n",
    "from skimage.transform import resize\n",
    "\n",
    "img_rows, img_cols = 28, 28\n",
    "\n",
    "image_original=cv2.imread(r\"C:\\Users\\vernyjmo\\Google Drive\\Maestria\\5 Cuatrimestre\\Reconocimiento de Patrones\\Proyecto_Final\\Numeros\\8_paint.png\")\n",
    "image_original_gray = rgb2gray(image_original)\n",
    "image_original_gray_res = resize(image_original_gray, (28,28))\n",
    "\n",
    "dia_semana = 0 # El dia es lunes\n",
    "pred = model.predict(image_original_gray_res.reshape(1, img_rows, img_cols, 1))\n",
    "\n",
    "if pred.argmax() == 0:\n",
    "    if dia_semana == 0:\n",
    "        print(\"El carro no cumple con la restriccion vehicular\")\n",
    "    elif dia_semana == 1:\n",
    "        print(\"El carro no cumple con la restriccion vehicular\")\n",
    "    else:\n",
    "        print(\"El carro cumple con la restriccion vehicular\")\n",
    "if pred.argmax() == 1:\n",
    "    if dia_semana == 0:\n",
    "        print(\"El carro no cumple con la restriccion vehicular\")\n",
    "    elif dia_semana == 1:\n",
    "        print(\"El carro no cumple con la restriccion vehicular\")\n",
    "    else:\n",
    "        print(\"El carro cumple con la restriccion vehicular\")\n",
    "        \n",
    "if pred.argmax() == 2:\n",
    "    if dia_semana == 2:\n",
    "        print(\"El carro no cumple con la restriccion vehicular\")\n",
    "    elif dia_semana == 3:\n",
    "        print(\"El carro no cumple con la restriccion vehicular\")\n",
    "    else:\n",
    "        print(\"El carro cumple con la restriccion vehicular\")      \n",
    "if pred.argmax() == 3:\n",
    "    if dia_semana == 2:\n",
    "        print(\"El carro no cumple con la restriccion vehicular\")\n",
    "    elif dia_semana == 3:\n",
    "        print(\"El carro no cumple con la restriccion vehicular\")\n",
    "    else:\n",
    "        print(\"El carro cumple con la restriccion vehicular\")\n",
    "        \n",
    "if pred.argmax() == 4:\n",
    "    if dia_semana == 4:\n",
    "        print(\"El carro no cumple con la restriccion vehicular\")\n",
    "    elif dia_semana == 5:\n",
    "        print(\"El carro no cumple con la restriccion vehicular\")\n",
    "    else:\n",
    "        print(\"El carro cumple con la restriccion vehicular\")\n",
    "if pred.argmax() == 5:\n",
    "    if dia_semana == 4:\n",
    "        print(\"El carro no cumple con la restriccion vehicular\")\n",
    "    elif dia_semana == 5:\n",
    "        print(\"El carro no cumple con la restriccion vehicular\")\n",
    "    else:\n",
    "        print(\"El carro cumple con la restriccion vehicular\")     \n",
    "        \n",
    "if pred.argmax() == 6:\n",
    "    if dia_semana == 6:\n",
    "        print(\"El carro no cumple con la restriccion vehicular\")\n",
    "    elif dia_semana == 7:\n",
    "        print(\"El carro no cumple con la restriccion vehicular\")\n",
    "    else:\n",
    "        print(\"El carro cumple con la restriccion vehicular\")\n",
    "if pred.argmax() == 7:\n",
    "    if dia_semana == 6:\n",
    "        print(\"El carro no cumple con la restriccion vehicular\")\n",
    "    elif dia_semana == 7:\n",
    "        print(\"El carro no cumple con la restriccion vehicular\")\n",
    "    else:\n",
    "        print(\"El carro cumple con la restriccion vehicular\")\n",
    "        \n",
    "if pred.argmax() == 8:\n",
    "    if dia_semana == 8:\n",
    "        print(\"El carro no cumple con la restriccion vehicular\")\n",
    "    elif dia_semana == 9:\n",
    "        print(\"El carro no cumple con la restriccion vehicular\")\n",
    "    else:\n",
    "        print(\"El carro cumple con la restriccion vehicular\")\n",
    "if pred.argmax() == 9:\n",
    "    if dia_semana == 8:\n",
    "        print(\"El carro no cumple con la restriccion vehicular\")\n",
    "    elif dia_semana == 9:\n",
    "        print(\"El carro no cumple con la restriccion vehicular\")\n",
    "    else:\n",
    "        print(\"El carro cumple con la restriccion vehicular\")\n",
    "\n",
    "plt.imshow(image_original_gray_res.reshape(28, 28),cmap='Greys')\n",
    "print(pred.argmax())\n"
   ]
  },
  {
   "cell_type": "code",
   "execution_count": null,
   "metadata": {},
   "outputs": [],
   "source": []
  }
 ],
 "metadata": {
  "kernelspec": {
   "display_name": "Python 3",
   "language": "python",
   "name": "python3"
  },
  "language_info": {
   "codemirror_mode": {
    "name": "ipython",
    "version": 3
   },
   "file_extension": ".py",
   "mimetype": "text/x-python",
   "name": "python",
   "nbconvert_exporter": "python",
   "pygments_lexer": "ipython3",
   "version": "3.7.3"
  }
 },
 "nbformat": 4,
 "nbformat_minor": 2
}
