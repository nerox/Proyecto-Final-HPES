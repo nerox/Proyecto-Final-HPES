{
 "cells": [
  {
   "cell_type": "markdown",
   "metadata": {},
   "source": [
    "We need to create some data that isn't plates so that the CNN recognice if it's either catputing plates or not, and what exactly counts as a plate."
   ]
  },
  {
   "cell_type": "code",
   "execution_count": 2,
   "metadata": {},
   "outputs": [],
   "source": [
    "from __future__ import absolute_import, division, print_function, unicode_literals\n",
    "\n",
    "import tensorflow as tf\n",
    "import numpy as np\n",
    "import cv2\n",
    "\n",
    "import pandas as pd\n",
    "import json\n",
    "import urllib\n",
    "from PIL import Image\n",
    "import matplotlib.pyplot as plt\n",
    "\n",
    "import random\n",
    "import pickle\n",
    "Features_output = []\n",
    "Labels_output = []\n",
    "\n",
    "IMG_SIZE=128\n",
    "\n",
    "Features_output = np.array(Features_output).reshape(-1, IMG_SIZE, IMG_SIZE, 3)\n",
    "\n",
    "#we proceed to save the output \n",
    "\n",
    "pickle_out = open(\"Features_output.pickle\",\"wb\")\n",
    "pickle.dump(Features_output, pickle_out)\n",
    "pickle_out.close()\n",
    "\n",
    "pickle_out = open(\"Labels_output.pickle\",\"wb\")\n",
    "pickle.dump(Labels_output, pickle_out)\n",
    "pickle_out.close()\n",
    "\n",
    "from tensorflow.keras.datasets import cifar10\n",
    "from tensorflow.keras.preprocessing.image import ImageDataGenerator\n",
    "from tensorflow.keras.models import Sequential\n",
    "from tensorflow.keras.layers import Dense, Dropout, Activation, Flatten\n",
    "from tensorflow.keras.layers import Conv2D, MaxPooling2D\n",
    "\n",
    "import pickle\n",
    "\n",
    "pickle_in = open(\"Features_output.pickle\",\"rb\")\n",
    "X = pickle.load(pickle_in)\n",
    "\n",
    "pickle_in = open(\"Labels_output.pickle\",\"rb\")\n",
    "y = pickle.load(pickle_in)\n",
    "\n",
    "X = X/255.0\n",
    "\n",
    "def prepare(filepath):\n",
    "    im = np.array(Image.open(filepath))\n",
    "    print(im.shape)\n",
    "    opencvImage = cv2.cvtColor(np.array(im), cv2.COLOR_RGB2BGR)    \n",
    "    new_array = cv2.resize(opencvImage, (IMG_SIZE, IMG_SIZE))\n",
    "    \n",
    "    fig, ax = plt.subplots(2, 1, constrained_layout=True)\n",
    "\n",
    "    # Set title\n",
    "    ax[0].set_title('Input Image')\n",
    "    ax[1].set_title('Output Image')\n",
    "\n",
    "    # Display the images\n",
    "    ax[1].imshow(new_array)\n",
    "\n",
    "    plt.show()\n",
    "    return new_array.reshape(-1, IMG_SIZE, IMG_SIZE, 3)"
   ]
  },
  {
   "cell_type": "code",
   "execution_count": 4,
   "metadata": {},
   "outputs": [
    {
     "data": {
      "text/plain": [
       "<tensorflow.python.training.tracking.util.CheckpointLoadStatus at 0x2465e933d68>"
      ]
     },
     "execution_count": 4,
     "metadata": {},
     "output_type": "execute_result"
    }
   ],
   "source": [
    "model = Sequential()\n",
    "\n",
    "model.add(Conv2D(256, (3, 3), input_shape=X.shape[1:]))\n",
    "model.add(Activation('relu'))\n",
    "model.add(MaxPooling2D(pool_size=(2, 2)))\n",
    "\n",
    "model.add(Conv2D(256, (3, 3)))\n",
    "model.add(Activation('relu'))\n",
    "model.add(MaxPooling2D(pool_size=(2, 2)))\n",
    "\n",
    "model.add(Flatten())  # this converts our 3D feature maps to 1D feature vectors\n",
    "\n",
    "model.add(Dense(64))\n",
    "\n",
    "model.add(Dense(1))\n",
    "model.add(Activation('sigmoid'))\n",
    "\n",
    "checkpoint_path = \"training_1\\cp.ckpt\"\n",
    "\n",
    "model.load_weights(checkpoint_path)"
   ]
  },
  {
   "cell_type": "code",
   "execution_count": null,
   "metadata": {},
   "outputs": [],
   "source": [
    "prediction = model.predict([prepare(r'C:\\Users\\rolan\\Proyecto-Final-HPES-master_1\\placas\\prueba1.jpg')])\n",
    "prediction2 = model.predict([prepare(r'C:\\Users\\rolan\\Proyecto-Final-HPES-master_1\\placas\\prueba2.jpg')])\n",
    "prediction3 = model.predict([prepare(r'C:\\Users\\rolan\\Proyecto-Final-HPES-master_1\\placas\\prueba3.jpg')])\n",
    "prediction4 = model.predict([prepare(r'C:\\Users\\rolan\\Proyecto-Final-HPES-master_1\\placas\\prueba4.jpg')])\n",
    "prediction5 = model.predict([prepare(r'C:\\Users\\rolan\\Proyecto-Final-HPES-master_1\\placas\\prueba5.jpg')])\n",
    "prediction6 = model.predict([prepare(r'C:\\Users\\rolan\\Proyecto-Final-HPES-master_1\\placas\\prueba6.jpg')])\n",
    "prediction7 = model.predict([prepare(r'C:\\Users\\rolan\\Proyecto-Final-HPES-master_1\\placas\\prueba7.jpg')])\n",
    "prediction8 = model.predict([prepare(r'C:\\Users\\rolan\\Proyecto-Final-HPES-master_1\\placas\\prueba8.jpg')])\n",
    "prediction9 = model.predict([prepare(r'C:\\Users\\rolan\\Proyecto-Final-HPES-master_1\\placas\\prueba9.jpg')])\n",
    "\n",
    "print(prediction)\n",
    "print(prediction2)\n",
    "print(prediction3)\n",
    "print(prediction4)\n",
    "print(prediction5)\n",
    "print(prediction6)\n",
    "print(prediction7)\n",
    "print(prediction8)\n",
    "print(prediction9)"
   ]
  }
 ],
 "metadata": {
  "kernelspec": {
   "display_name": "Python 3",
   "language": "python",
   "name": "python3"
  },
  "language_info": {
   "codemirror_mode": {
    "name": "ipython",
    "version": 3
   },
   "file_extension": ".py",
   "mimetype": "text/x-python",
   "name": "python",
   "nbconvert_exporter": "python",
   "pygments_lexer": "ipython3",
   "version": "3.7.3"
  }
 },
 "nbformat": 4,
 "nbformat_minor": 2
}
